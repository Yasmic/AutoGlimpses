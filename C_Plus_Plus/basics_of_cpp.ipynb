{
  "cells": [
    {
      "cell_type": "raw",
      "metadata": {},
      "source": [
        "---\n",
        "author: Yas Mi\n",
        "badges: True\n",
        "categories:\n",
        "- Basics of c++ templates\n",
        "date: '2023-07-22'\n",
        "description: Basics of templates\n",
        "title: Basics of templates\n",
        "toc: true\n",
        "---"
      ]
    },
    {
      "cell_type": "markdown",
      "metadata": {},
      "source": [
        "## Class templates \n",
        "A class template is prescription for creating a class in which one or more types or values are prameterized .\n",
        "\n",
        "\n",
        "Let us see how to define and declare class templates <br>\n",
        "`template <class T>` \n",
        "\n",
        "1. template key word always begins both the definition and a declaration of a class template .\n",
        "2. template key word is followed by list of user defined data type separated by comma \n"
      ]
    },
    {
      "cell_type": "markdown",
      "metadata": {},
      "source": [
        "   and surrounded by the less than (<) and greater than (>) tokens.\n",
        "3. In place of class key word typename could also be used as shown below `template <typename T>` \n",
        "\n",
        "Below is the simple program to understand the template class "
      ]
    },
    {
      "cell_type": "markdown",
      "metadata": {
        "vscode": {
          "languageId": "plaintext"
        }
      },
      "source": [
        "\n",
        "```cpp\n",
        "#include <iostream>\n",
        "using namespace std;\n",
        "\n",
        "template <class ValueType>\n",
        "class tempClass\n",
        "{\n",
        "public:\n",
        "tempClass(){}\n",
        "void updateDataType(ValueType data);\n",
        "\n",
        "};\n",
        "\n",
        "template <class ValueType>\n",
        "void tempClass < ValueType>::updateDataType(ValueType data)\n",
        "{\n",
        " cout <<\"data=\"<<data<<endl;\n",
        "}\n",
        "int main()\n",
        "{\n",
        "    tempClass<int> tempObject;\n",
        "    tempObject.updateDataType(5);\n",
        "\n",
        "    tempClass<char> tempObjectchar;\n",
        "    char value='a';\n",
        "    tempObject.updateDataType(value);\n",
        "    return 0;\n",
        "}\n",
        "```\n"
      ]
    },
    {
      "cell_type": "markdown",
      "metadata": {},
      "source": [
        "template class can also have nontype parameter ,mostly it will be constant \n",
        "`template <class T, int size>`"
      ]
    },
    {
      "cell_type": "markdown",
      "metadata": {},
      "source": [
        "```cpp\n",
        "#include <iostream>\n",
        "using namespace std;\n",
        "\n",
        "template <class ValueType>\n",
        "class tempClass\n",
        "{\n",
        "public:\n",
        "tempClass(){}\n",
        "void updateDataType(ValueType data);\n",
        "\n",
        "};\n",
        "\n",
        "template <class ValueType>\n",
        "void tempClass < ValueType>::updateDataType(ValueType data)\n",
        "{\n",
        " cout <<\"data=\"<<data<<endl;\n",
        "}\n",
        "int main()\n",
        "{\n",
        "    tempClass<int> tempObject;\n",
        "    tempObject.updateDataType(5);\n",
        "\n",
        "    tempClass<char> tempObjectchar;\n",
        "    char value='a';\n",
        "    tempObject.updateDataType(value);\n",
        "    return 0;\n",
        "}\n",
        "```"
      ]
    },
    {
      "cell_type": "markdown",
      "metadata": {},
      "source": [
        "## Lambda function\n",
        "Format :\n",
        "\n",
        "```cpp\n",
        "[] () mutable throw() -> int \n",
        "{\n",
        "    //lambda body\n",
        "} \n",
        "```\n",
        "\n",
        "[] Lambda introducer also called capture clause <br>\n",
        "() Lambda declarator also called parameter list <br>\n",
        "mutable also known as mutable specification <br>\n",
        "exception specification<br>\n",
        "return type<br>\n",
        "lambda body<br>\n",
        "\n",
        "__Capture clause__ <br>\n",
        "\n",
        "[] -lambda does not access enclosing scope<br>\n",
        "[=] -captures everything by value <br>\n",
        "[&]-capture everything by reference<br>\n",
        "[x,&y]-capture x by value and y by reference<br>\n",
        "[&,z]-capture everything by reference,but z by value <br>\n",
        "\n"
      ]
    },
    {
      "cell_type": "markdown",
      "metadata": {},
      "source": [
        "__Lambda function example__ <br>\n",
        "\n",
        "```cpp\n",
        " int x=9;\n",
        "  auto add_one = [x] (const int value) \n",
        "    {\n",
        "        x=2;//Error \n",
        "\n",
        "         //x is captured by copy so the x value cannot be modified inside the lambda function \n",
        "        //in order to change/update the value of x add \"mutable keyword after parameter list \"\n",
        "        //or capture the x value by reference in the capture clause\n",
        "        return value + 1+x;\n",
        "    };\n",
        "  \n",
        "  //Method 1\n",
        "    auto add_one = [x] (const int value) mutable\n",
        "    {\n",
        "        x=2;\n",
        "        return value + 1+x;\n",
        "    };\n",
        "    cout<<(add_one(2))<<endl; //12\n",
        "\n",
        "     //Method 2\n",
        "    auto add_one = [&x] (const int value) \n",
        "    {\n",
        "        x=2;\n",
        "        return value + 1+x;\n",
        "    };\n",
        "    cout<<(add_one(2))<<endl;//12\n",
        "  ```"
      ]
    }
  ],
  "metadata": {
    "colab": {
      "collapsed_sections": [],
      "provenance": []
    },
    "kernelspec": {
      "display_name": "base",
      "language": "python",
      "name": "python3"
    },
    "language_info": {
      "codemirror_mode": {
        "name": "ipython",
        "version": 3
      },
      "file_extension": ".py",
      "mimetype": "text/x-python",
      "name": "python",
      "nbconvert_exporter": "python",
      "pygments_lexer": "ipython3",
      "version": "3.11.4"
    }
  },
  "nbformat": 4,
  "nbformat_minor": 0
}
